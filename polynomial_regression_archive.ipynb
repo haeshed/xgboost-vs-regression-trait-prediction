{
 "cells": [
  {
   "cell_type": "code",
   "execution_count": 2,
   "metadata": {},
   "outputs": [],
   "source": [
    "import numpy as np\n",
    "from sklearn.model_selection import train_test_split\n",
    "from sklearn.preprocessing import PolynomialFeatures\n",
    "from sklearn.linear_model import LinearRegression\n",
    "from sklearn.metrics import mean_squared_error\n",
    "import pandas as pd\n",
    "import matplotlib.pyplot as plt\n",
    "import matplotlib.cm as cm\n",
    "import scipy as sp\n",
    "import pprint\n",
    "from sklearn.tree import DecisionTreeClassifier\n",
    "from sklearn import tree\n",
    "from sklearn.datasets import load_iris\n",
    "from sklearn import metrics\n",
    "import dtreeviz.trees\n",
    "from sklearn.model_selection import train_test_split\n",
    "import statsmodels.api as sm\n",
    "from scipy import stats\n",
    "from pprint import pprint\n",
    "import math\n",
    "\n"
   ]
  },
  {
   "attachments": {},
   "cell_type": "markdown",
   "metadata": {},
   "source": [
    "This cell is used to read in the data from the csv file"
   ]
  },
  {
   "cell_type": "code",
   "execution_count": 3,
   "metadata": {},
   "outputs": [
    {
     "data": {
      "text/plain": [
       "84"
      ]
     },
     "execution_count": 3,
     "metadata": {},
     "output_type": "execute_result"
    }
   ],
   "source": [
    "df = pd.read_csv('inner_data.csv')\n",
    "column_headers = list(df.columns.values)\n",
    "len(column_headers)"
   ]
  },
  {
   "cell_type": "markdown",
   "metadata": {},
   "source": [
    "Here we are building the helper functions: <br>\n",
    "split_data_by_feature, split_data_by_applicant, linear_to_poly_data, provide_best_features, plot_best_features <br>\n",
    "which will help us to perform different data splits and some optimizations for the models.\n"
   ]
  },
  {
   "cell_type": "code",
   "execution_count": 4,
   "metadata": {},
   "outputs": [],
   "source": [
    "def split_data_by_feature(df, feature):\n",
    "    \"\"\"\n",
    "    input: df - dataframe, feature - int\n",
    "    output: X_train, X_test, y_train, y_test - numpy arrays\n",
    "    description: This function takes in a dataframe and a feature number and returns the a split of the data into training and testing sets using a specified ratio\n",
    "                The feature number is the column number (or label) of the feature to be predicted\n",
    "                \"\"\"\n",
    "    data = df.to_numpy()\n",
    "    data = data[:, 1:]\n",
    "    data = data[:, 1:]\n",
    "    X = np.delete(data, feature, axis=1)\n",
    "    y = data[:, feature]\n",
    "\n",
    "    X_train, X_test, y_train, y_test = train_test_split(X, y, test_size=0.2, random_state=42)\n",
    "    return X_train, X_test, y_train, y_test\n",
    "\n",
    "def split_data_by_applicant(df, feature):\n",
    "    \"\"\"\n",
    "    input: df - dataframe, feature - int\n",
    "    output: X_train, X_test, y_train, y_test - numpy arrays\n",
    "    description: This function takes in a dataframe and a feature number and returns the a split of the data into training and testing sets using a specified ratio\n",
    "                The feature number is the column number (or label) of the feature to be predicted\n",
    "                The data is split by applicant, so that all of the data for a given applicant is either in the training set or the testing set\n",
    "                This is done to optimize the data, since the data for a given applicant is likely to be correlated and is from the same distribution\n",
    "                \"\"\"\n",
    "    applicants = df.Applicant.unique()\n",
    "    applicants_train, applicants_test = train_test_split(applicants, test_size=0.2, random_state=42)\n",
    "    data_train = df[df.Applicant.isin(applicants_train)].copy()\n",
    "    data_test = df[df.Applicant.isin(applicants_test)].copy()\n",
    "    data_train.drop(columns=['Question','Applicant'], inplace=True)\n",
    "    data_test.drop(columns=['Question','Applicant'], inplace=True)\n",
    "\n",
    "    data_train=data_train.to_numpy()\n",
    "    data_test=data_test.to_numpy()\n",
    "\n",
    "    X_train, X_test, y_train, y_test = np.delete(data_train, feature, axis=1),np.delete(data_test, feature, axis=1), data_train[:, feature],data_test[:, feature]\n",
    "    return X_train, X_test, y_train, y_test\n",
    "\n",
    "\n",
    "def linear_to_poly_data(X_train, X_test, degree):\n",
    "    \"\"\"\n",
    "    input: X_train, X_test - numpy arrays, degree - int\n",
    "    output: X_train_poly, X_test_poly - numpy arrays, poly_names - list\n",
    "    description: This function takes in the training and testing data and the degree of the polynomial to be used and returns the polynomial features of the data\n",
    "                The polynomial features are the original features raised to the powers from 0 to the degree\n",
    "                The function also returns the names of the polynomial features\n",
    "                \"\"\"\n",
    "\n",
    "    poly_features = PolynomialFeatures(degree=degree)\n",
    "    X_train_poly = poly_features.fit_transform(X_train)\n",
    "    X_test_poly = poly_features.transform(X_test)\n",
    "    poly_names = poly_features.get_feature_names_out()\n",
    "    return X_train_poly, X_test_poly, poly_names\n",
    "    \n",
    "\n",
    "def provide_best_features(X_train_poly, X_test_poly, y_train, y_test, num_feat, thresh=0.1):\n",
    "    \"\"\"\n",
    "    input: X_train_poly, X_test_poly, y_train, y_test - numpy arrays, num_feat - int, thresh - float\n",
    "    output: top5_indices - list, mse - float, accuracy - float\n",
    "    description: This function takes in the training and testing data, the number of features to be returned, and the threshold for the accuracy\n",
    "                The function returns the indices of the top 5 features, the mean squared error of the model, and the accuracy of the model\n",
    "                The accuracy is the percentage of predictions that are within the threshold of the actual value\n",
    "                \"\"\"\n",
    "    model = LinearRegression()\n",
    "    model.fit(X_train_poly, y_train)\n",
    "    y_pred = model.predict(X_test_poly)\n",
    "    mse = mean_squared_error(y_test, y_pred)\n",
    "    # print(\"Mean Squared Error:\", \"{:.4f}\".format(mse))\n",
    "    pred_comparison_df = pd.DataFrame({'Actual': y_test, 'Predicted': y_pred})\n",
    "    pred_comparison_df[\"True/False\"] = np.abs(pred_comparison_df[\"Actual\"] - pred_comparison_df[\"Predicted\"]) < thresh        \n",
    "    # print(\"Accuracy: \",\"{:.2f}\".format(100*pred_comparison_df[\"True/False\"].value_counts(normalize=True)[0]),\"%\")\n",
    "    feature_coefficients = np.argsort(np.abs(model.coef_)) \n",
    "    feature_names =linear_to_poly_data(X_train_poly, X_test_poly, 1)[2][:-1]\n",
    "    # plot_best_features(model.coef_, feature_names)\n",
    "    top5_indices = feature_coefficients[-num_feat:]\n",
    "    return top5_indices.tolist(), mse, pred_comparison_df[\"True/False\"].value_counts(normalize=True)[0]\n",
    "\n",
    "\n",
    "def plot_best_features(model_coef, feature_names):\n",
    "    \"\"\"\n",
    "    input: model_coef - numpy array, feature_names - list\n",
    "    output: None\n",
    "    description: This function takes in the coefficients of the model and the names of the features and plots the coefficients of the features\n",
    "                The function also annotates the features that have a coefficient greater than 0.3 or less than -0.3\n",
    "                \"\"\"\n",
    "    ax = plt.subplots(1,1)[1]\n",
    "    bars = ax.bar(feature_names, model_coef)\n",
    "\n",
    "    for i in range(len(bars)):\n",
    "        height = bars[i].get_height()\n",
    "        if height>=.3:\n",
    "            ax.annotate(df.columns[i],\n",
    "                    xy=(bars[i].get_x() + bars[i].get_width() / 2, height),\n",
    "                    xytext=(0, 3),\n",
    "                    textcoords=\"offset points\",\n",
    "                    ha='center', va='bottom')\n",
    "            bars[i].set_color('orange')\n",
    "        elif height<=-.3:\n",
    "            ax.annotate(df.columns[i],\n",
    "                    xy=(bars[i].get_x() + bars[i].get_width() / 2, height),\n",
    "                    xytext=(0, -3),\n",
    "                    textcoords=\"offset points\",\n",
    "                    ha='center', va='top')\n",
    "            bars[i].set_color('orange')\n",
    "    ax.axhline(y=0.3, color='r', linestyle='--')\n",
    "    ax.axhline(y=-0.3, color='r', linestyle='--')\n",
    "    ax.axhline(y=0, color='black', linestyle='-')\n",
    "\n",
    "    ax.set_xlabel('Feature Names')\n",
    "    ax.set_ylabel('Coefficients')\n",
    "    ax.set_title('Coefficient Bar Chart')\n",
    "    ax.set_ylim([min(model_coef)-.1, max(model_coef)+.1])\n",
    "    \n",
    "    i=0\n",
    "    ratio = int(math.ceil(len(feature_names)/20))\n",
    "    for label in ax.xaxis.get_ticklabels():\n",
    "        if i % ratio != 0: \n",
    "            label.set_visible(False)\n",
    "        i+=1    \n",
    "    \n",
    "    plt.show()\n",
    "    "
   ]
  },
  {
   "cell_type": "markdown",
   "metadata": {},
   "source": [
    "Here we are building the main functions: <br>\n",
    "run_model, filter_best_predictions, and get_specific_features <br>\n",
    "which will help us to run the model, then get the best features that had the best results, and filter features by a given list.\n"
   ]
  },
  {
   "cell_type": "code",
   "execution_count": 5,
   "metadata": {},
   "outputs": [],
   "source": [
    "def run_model(df, degree, num_feat, split_func):\n",
    "    \"\"\"\n",
    "    input: df - pandas dataframe, degree - int, num_feat - int, split_func - function\n",
    "    output: best_features_to_predict - dictionary containing the feature to be predicted as the key and the top 5 features as the value and their corresponding mse and accuracy\n",
    "    description: This function takes in the dataframe, the degree of the polynomial to be used, the number of features to be returned, and the split function to be used\n",
    "                The function returns the indices of the top 5 features, the mean squared error of the model, and the accuracy of the model\n",
    "                The accuracy is the percentage of predictions that are within the threshold of the actual value\n",
    "                \"\"\"\n",
    "    best_features = []\n",
    "    best_features_to_predict = {}\n",
    "    for feature in range(df.shape[1]-2):\n",
    "        # print(\"FEATURE TO PREDICT: \", feature, df.columns[feature])\n",
    "        X_train, X_test, y_train, y_test = split_func(df, feature)\n",
    "        X_train_poly, X_test_poly, poly_names = linear_to_poly_data(X_train, X_test, degree)\n",
    "        model_eval = provide_best_features(X_train_poly, X_test_poly, y_train, y_test, num_feat)\n",
    "        top_features = poly_names[model_eval[0]].tolist()\n",
    "        best_features.append(model_eval[0])\n",
    "\n",
    "        # print(\"predict with only TOP \",num_feat,\" features:\")\n",
    "        X_train_only_best, X_test_only_best = X_train_poly[:,best_features[feature]], X_test_poly[:, best_features[feature]]\n",
    "        compact_model_eval = provide_best_features(X_train_only_best, X_test_only_best, y_train, y_test, num_feat)\n",
    "        best_features_to_predict[feature] = {'feature name':df.columns[feature],'predictors names':top_features,'feature numbers':model_eval[0], 'mse':model_eval[1],'accuracy':model_eval[2],'compact model mse': compact_model_eval[1],'compact model accuracy': compact_model_eval[2], 'ratio':compact_model_eval[2]/model_eval[2]}\n",
    "        # print(\"\\n\")\n",
    "    # pprint(best_features_to_predict)\n",
    "    return best_features_to_predict\n",
    "\n",
    "def filter_best_predictions(model, ratio, thresh):\n",
    "    \"\"\"\n",
    "    input: model - dictionary, ratio - float, thresh - float\n",
    "    output: filtered_features - dictionary\n",
    "    description: This function takes in the model, the ratio of the compact model accuracy to the model accuracy, and the threshold of the model accuracy\n",
    "                The function returns a dictionary of the features that have a compact model accuracy that is greater than the model accuracy and the model accuracy is greater than the threshold\n",
    "                \"\"\"\n",
    "    filtered_features = {}\n",
    "    for feature in model:\n",
    "        current = model[feature]\n",
    "        if current[\"compact model accuracy\"]/current[\"accuracy\"] >= ratio and current[\"accuracy\"]>thresh:\n",
    "            filtered_features[feature] = current\n",
    "    # pprint(filtered_features)\n",
    "    return filtered_features\n",
    "\n",
    "\n",
    "def get_specific_features(model, features):\n",
    "    \"\"\"\n",
    "    input: model - dictionary, features - list\n",
    "    output: filtered_features - dictionary\n",
    "    description: This function takes in the model and a list of features\n",
    "                The function returns a dictionary of the features that are in the list of features\n",
    "                \"\"\"\n",
    "    filtered_features = {}\n",
    "    for feature in range(len(model)):\n",
    "        if model[feature][\"feature name\"] in features:\n",
    "            filtered_features[feature]=model[feature]\n",
    "    return filtered_features\n"
   ]
  },
  {
   "cell_type": "markdown",
   "metadata": {},
   "source": [
    "We shall run the model and check for results:"
   ]
  },
  {
   "cell_type": "code",
   "execution_count": 6,
   "metadata": {},
   "outputs": [],
   "source": [
    "# this cell is used to run the model using split_data_by_feature and get the model for each feature\n",
    "degree = 1\n",
    "num_feat = 5\n",
    "model_by_feature = run_model(df,degree, num_feat, split_data_by_feature)"
   ]
  },
  {
   "cell_type": "code",
   "execution_count": 7,
   "metadata": {},
   "outputs": [
    {
     "data": {
      "text/plain": [
       "15"
      ]
     },
     "execution_count": 7,
     "metadata": {},
     "output_type": "execute_result"
    }
   ],
   "source": [
    "# this cell is used to filter the model by the ratio and threshold, and get the all the features that have a compact model accuracy that holds the ratio and threshold\n",
    "thresh = 0.90\n",
    "ratio = 0.90\n",
    "best_by_feature = filter_best_predictions(model_by_feature, ratio, thresh)\n",
    "\n",
    "len(best_by_feature)"
   ]
  },
  {
   "cell_type": "code",
   "execution_count": 14,
   "metadata": {},
   "outputs": [],
   "source": [
    "# best_by_feature"
   ]
  },
  {
   "cell_type": "code",
   "execution_count": 9,
   "metadata": {},
   "outputs": [],
   "source": [
    "# this cell is used to run the model using split_data_by_applicant and get the model for each feature\n",
    "degree = 1\n",
    "num_feat = 2\n",
    "model_by_applicant = run_model(df,degree, num_feat, split_data_by_applicant)"
   ]
  },
  {
   "cell_type": "code",
   "execution_count": 10,
   "metadata": {},
   "outputs": [
    {
     "data": {
      "text/plain": [
       "14"
      ]
     },
     "execution_count": 10,
     "metadata": {},
     "output_type": "execute_result"
    }
   ],
   "source": [
    "# this cell is used to filter the model by the ratio and threshold, and get the all the features that have a compact model accuracy that holds the ratio and threshold\n",
    "thresh = 0.90\n",
    "ratio = 0.90\n",
    "best_by_applicant = filter_best_predictions(model_by_applicant,ratio, thresh)\n",
    "\n",
    "len(best_by_applicant)"
   ]
  },
  {
   "cell_type": "markdown",
   "metadata": {},
   "source": [
    "Next we set some complex traits that we want to predict, and check if they are in the best_by_feature dictionary\n"
   ]
  },
  {
   "cell_type": "code",
   "execution_count": 15,
   "metadata": {},
   "outputs": [
    {
     "name": "stdout",
     "output_type": "stream",
     "text": [
      "Predicted  8  out of  8  complex features above the threshhold\n"
     ]
    }
   ],
   "source": [
    "# List of complex traits to check for:\n",
    "complex_traits = [\n",
    "    \"triumphant\",\n",
    "    \"tolerant\",\n",
    "    \"proactivity\",\n",
    "    \"persistent\",\n",
    "    \"independent\",\n",
    "    \"pleased\",\n",
    "    \"organized\",\n",
    "    \"go-getter\"\n",
    "]\n",
    "\n",
    "thresh = 0.90\n",
    "ratio = 0.90\n",
    "complex_features = get_specific_features(model_by_feature, complex_traits)\n",
    "filtered_complex = filter_best_predictions(complex_features, ratio, thresh)\n",
    "# pprint(complex_features)\n",
    "# pprint(filtered_complex)\n",
    "print(\"Predicted \", len(filtered_complex), \" out of \", len(\n",
    "    complex_features), \" complex features above the threshhold\")\n"
   ]
  },
  {
   "cell_type": "code",
   "execution_count": 12,
   "metadata": {},
   "outputs": [
    {
     "data": {
      "text/html": [
       "<div>\n",
       "<style scoped>\n",
       "    .dataframe tbody tr th:only-of-type {\n",
       "        vertical-align: middle;\n",
       "    }\n",
       "\n",
       "    .dataframe tbody tr th {\n",
       "        vertical-align: top;\n",
       "    }\n",
       "\n",
       "    .dataframe thead th {\n",
       "        text-align: right;\n",
       "    }\n",
       "</style>\n",
       "<table border=\"1\" class=\"dataframe\">\n",
       "  <thead>\n",
       "    <tr style=\"text-align: right;\">\n",
       "      <th></th>\n",
       "      <th>feature name</th>\n",
       "      <th>predictors names</th>\n",
       "      <th>feature numbers</th>\n",
       "      <th>mse</th>\n",
       "      <th>accuracy</th>\n",
       "      <th>compact model mse</th>\n",
       "      <th>compact model accuracy</th>\n",
       "      <th>ratio</th>\n",
       "    </tr>\n",
       "  </thead>\n",
       "  <tbody>\n",
       "    <tr>\n",
       "      <th>39</th>\n",
       "      <td>go-getter</td>\n",
       "      <td>[x17, x28, x58, x27, x79]</td>\n",
       "      <td>[18, 29, 59, 28, 80]</td>\n",
       "      <td>0.000740</td>\n",
       "      <td>0.989899</td>\n",
       "      <td>0.001081</td>\n",
       "      <td>0.989899</td>\n",
       "      <td>1.000000</td>\n",
       "    </tr>\n",
       "    <tr>\n",
       "      <th>43</th>\n",
       "      <td>independent</td>\n",
       "      <td>[x51, x39, x61, x9, x58]</td>\n",
       "      <td>[52, 40, 62, 10, 59]</td>\n",
       "      <td>0.000717</td>\n",
       "      <td>1.000000</td>\n",
       "      <td>0.001853</td>\n",
       "      <td>0.959596</td>\n",
       "      <td>0.959596</td>\n",
       "    </tr>\n",
       "    <tr>\n",
       "      <th>49</th>\n",
       "      <td>organized</td>\n",
       "      <td>[x15, x59, x27, x39, x42]</td>\n",
       "      <td>[16, 60, 28, 40, 43]</td>\n",
       "      <td>0.002312</td>\n",
       "      <td>0.939394</td>\n",
       "      <td>0.002920</td>\n",
       "      <td>0.909091</td>\n",
       "      <td>0.967742</td>\n",
       "    </tr>\n",
       "    <tr>\n",
       "      <th>53</th>\n",
       "      <td>persistent</td>\n",
       "      <td>[x59, x27, x53, x39, x79]</td>\n",
       "      <td>[60, 28, 54, 40, 80]</td>\n",
       "      <td>0.002932</td>\n",
       "      <td>0.949495</td>\n",
       "      <td>0.004831</td>\n",
       "      <td>0.898990</td>\n",
       "      <td>0.946809</td>\n",
       "    </tr>\n",
       "    <tr>\n",
       "      <th>54</th>\n",
       "      <td>pleased</td>\n",
       "      <td>[x59, x58, x9, x43, x53]</td>\n",
       "      <td>[60, 59, 10, 44, 54]</td>\n",
       "      <td>0.003198</td>\n",
       "      <td>0.949495</td>\n",
       "      <td>0.006508</td>\n",
       "      <td>0.929293</td>\n",
       "      <td>0.978723</td>\n",
       "    </tr>\n",
       "    <tr>\n",
       "      <th>59</th>\n",
       "      <td>proactivity</td>\n",
       "      <td>[x52, x9, x61, x39, x43]</td>\n",
       "      <td>[53, 10, 62, 40, 44]</td>\n",
       "      <td>0.001321</td>\n",
       "      <td>0.989899</td>\n",
       "      <td>0.002770</td>\n",
       "      <td>0.939394</td>\n",
       "      <td>0.948980</td>\n",
       "    </tr>\n",
       "    <tr>\n",
       "      <th>79</th>\n",
       "      <td>tolerant</td>\n",
       "      <td>[x14, x27, x79, x39, x60]</td>\n",
       "      <td>[15, 28, 80, 40, 61]</td>\n",
       "      <td>0.004470</td>\n",
       "      <td>0.919192</td>\n",
       "      <td>0.008595</td>\n",
       "      <td>0.919192</td>\n",
       "      <td>1.000000</td>\n",
       "    </tr>\n",
       "    <tr>\n",
       "      <th>80</th>\n",
       "      <td>triumphant</td>\n",
       "      <td>[x53, x27, x62, x42, x39]</td>\n",
       "      <td>[54, 28, 63, 43, 40]</td>\n",
       "      <td>0.000572</td>\n",
       "      <td>0.989899</td>\n",
       "      <td>0.000681</td>\n",
       "      <td>0.989899</td>\n",
       "      <td>1.000000</td>\n",
       "    </tr>\n",
       "  </tbody>\n",
       "</table>\n",
       "</div>"
      ],
      "text/plain": [
       "   feature name           predictors names       feature numbers       mse   \n",
       "39    go-getter  [x17, x28, x58, x27, x79]  [18, 29, 59, 28, 80]  0.000740  \\\n",
       "43  independent   [x51, x39, x61, x9, x58]  [52, 40, 62, 10, 59]  0.000717   \n",
       "49    organized  [x15, x59, x27, x39, x42]  [16, 60, 28, 40, 43]  0.002312   \n",
       "53   persistent  [x59, x27, x53, x39, x79]  [60, 28, 54, 40, 80]  0.002932   \n",
       "54      pleased   [x59, x58, x9, x43, x53]  [60, 59, 10, 44, 54]  0.003198   \n",
       "59  proactivity   [x52, x9, x61, x39, x43]  [53, 10, 62, 40, 44]  0.001321   \n",
       "79     tolerant  [x14, x27, x79, x39, x60]  [15, 28, 80, 40, 61]  0.004470   \n",
       "80   triumphant  [x53, x27, x62, x42, x39]  [54, 28, 63, 43, 40]  0.000572   \n",
       "\n",
       "    accuracy  compact model mse  compact model accuracy     ratio  \n",
       "39  0.989899           0.001081                0.989899  1.000000  \n",
       "43  1.000000           0.001853                0.959596  0.959596  \n",
       "49  0.939394           0.002920                0.909091  0.967742  \n",
       "53  0.949495           0.004831                0.898990  0.946809  \n",
       "54  0.949495           0.006508                0.929293  0.978723  \n",
       "59  0.989899           0.002770                0.939394  0.948980  \n",
       "79  0.919192           0.008595                0.919192  1.000000  \n",
       "80  0.989899           0.000681                0.989899  1.000000  "
      ]
     },
     "execution_count": 12,
     "metadata": {},
     "output_type": "execute_result"
    }
   ],
   "source": [
    "df2 = pd.DataFrame.from_dict(filtered_complex, orient='index')\n",
    "df2"
   ]
  },
  {
   "cell_type": "code",
   "execution_count": 16,
   "metadata": {},
   "outputs": [
    {
     "data": {
      "image/png": "[encoded data removed]",
      "text/plain": [
       "<Figure size 640x480 with 1 Axes>"
      ]
     },
     "metadata": {},
     "output_type": "display_data"
    }
   ],
   "source": [
    "def plot_full_vs_compact_resutls(df):\n",
    "    # document plot_full_vs_compact_resutls function\n",
    "    \"\"\"\"\n",
    "    input: df - dataframe\n",
    "    output: None\n",
    "    description: This function takes in a dataframe and plots a bar graph of the accuracy and compact model accuracy of each feature\n",
    "                \"\"\"\n",
    "    ax = df.plot.bar(x='feature name', y=['accuracy', 'compact model accuracy'], rot=45)\n",
    "    ax.set_xlabel(None)\n",
    "    ax.set_ylabel('Accuracy')\n",
    "    ax.set_title('Comparison of Full and Compact Model Accuracy')\n",
    "    ax.set_ylim([0, 1.13])\n",
    "    y_value = 1\n",
    "    ax.axhline(y=y_value, color='red', linestyle='dotted')\n",
    "    ax.legend([ 'ratio between accuracies','full model accuracy', 'compact model accuracy'], loc='lower right')\n",
    "    def addlabels(x,y):\n",
    "        for i in range(len(x)):\n",
    "            plt.text(i, 1.02, y[i], ha = 'center')\n",
    "    addlabels(df['feature name'].to_list(), list(np.around(np.array(df['ratio'].to_list()),2)))\n",
    "    plt.show()\n",
    "\n",
    "plot_full_vs_compact_resutls(df2)\n"
   ]
  }
 ],
 "metadata": {
  "kernelspec": {
   "display_name": "Python 3",
   "language": "python",
   "name": "python3"
  },
  "language_info": {
   "codemirror_mode": {
    "name": "ipython",
    "version": 3
   },
   "file_extension": ".py",
   "mimetype": "text/x-python",
   "name": "python",
   "nbconvert_exporter": "python",
   "pygments_lexer": "ipython3",
   "version": "3.10.11"
  },
  "orig_nbformat": 4
 },
 "nbformat": 4,
 "nbformat_minor": 2
}
